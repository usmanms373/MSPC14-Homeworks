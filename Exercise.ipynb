{
 "cells": [
  {
   "cell_type": "code",
   "execution_count": 1,
   "id": "e9dc5b34-8066-4e38-8538-c4deff3a41b8",
   "metadata": {},
   "outputs": [
    {
     "name": "stdout",
     "output_type": "stream",
     "text": [
      "3.5325000000000006\n"
     ]
    }
   ],
   "source": [
    "diameter = 9\n",
    "radius = diameter/2\n",
    "Arc_Length = (3.14/180)*45\n",
    "print(Arc_Length*radius)"
   ]
  },
  {
   "cell_type": "code",
   "execution_count": 6,
   "id": "be2e84fd-6f79-456e-8a10-8ca86af79f6c",
   "metadata": {},
   "outputs": [
    {
     "name": "stdout",
     "output_type": "stream",
     "text": [
      "augustom,augustomartin,23,approved\n",
      "juliasch,juliaschmidt,67,rejected\n",
      "kmarx,karlmarx,42,rejected\n"
     ]
    }
   ],
   "source": [
    "message_1=\"https://database.com/user/augustom,AugUSto Martin, 23, Approved,,\"\n",
    "message_2=\"https://database.com/user/juliasch,JuLIA SchmidT, 67, rejected,,\"\n",
    "message_3=\"https://database.com/user/kmarx,Karl Marx, 42, rejected,,\"\n",
    "\n",
    "\n",
    "new_message_1=print(message_1[26:].lower().replace(\" \",\"\").removesuffix(\",,\"))\n",
    "new_message_2=print(message_2[26:].lower().replace(\" \",\"\").removesuffix(\",,\"))\n",
    "new_message_3=print(message_3[26:].lower().replace(\" \",\"\").removesuffix(\",,\"))"
   ]
  },
  {
   "cell_type": "code",
   "execution_count": null,
   "id": "dde3e088-87a6-4dab-8597-93bef947dc98",
   "metadata": {},
   "outputs": [],
   "source": []
  }
 ],
 "metadata": {
  "kernelspec": {
   "display_name": "Python 3 (ipykernel)",
   "language": "python",
   "name": "python3"
  },
  "language_info": {
   "codemirror_mode": {
    "name": "ipython",
    "version": 3
   },
   "file_extension": ".py",
   "mimetype": "text/x-python",
   "name": "python",
   "nbconvert_exporter": "python",
   "pygments_lexer": "ipython3",
   "version": "3.12.9"
  }
 },
 "nbformat": 4,
 "nbformat_minor": 5
}
