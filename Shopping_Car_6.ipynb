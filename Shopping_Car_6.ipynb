{
 "cells": [
  {
   "cell_type": "code",
   "execution_count": 5,
   "id": "231be6df-e721-4421-bd3e-e076129b6f87",
   "metadata": {},
   "outputs": [],
   "source": [
    "class Product:\n",
    "    def __init__(self, name, price):\n",
    "        self.name = name\n",
    "        self.price = price\n",
    "\n",
    "    def display_info(self):\n",
    "        print(f\"{self.name}: ${self.price:.2f}\")"
   ]
  },
  {
   "cell_type": "code",
   "execution_count": 9,
   "id": "37679c6f-0b02-4230-8f6b-c0490fd82826",
   "metadata": {},
   "outputs": [],
   "source": [
    "class ShoppingCart:\n",
    "    def __init__(self):\n",
    "        self.items = {}  # {product.name: {\"product\": product, \"quantity\": quantity}}\n",
    "\n",
    "    def add_product(self, product, quantity=1):\n",
    "        if product.name in self.items:\n",
    "            self.items[product.name][\"quantity\"] += quantity\n",
    "        else:\n",
    "            self.items[product.name] = {\"product\": product, \"quantity\": quantity}\n",
    "        print(f\"Added {quantity} x {product.name} to the cart.\")\n",
    "\n",
    "    def remove_product(self, product, quantity=1):\n",
    "        if product.name in self.items:\n",
    "            if self.items[product.name][\"quantity\"] <= quantity:\n",
    "                del self.items[product.name]\n",
    "                print(f\"Removed all of {product.name} from the cart.\")\n",
    "            else:\n",
    "                self.items[product.name][\"quantity\"] -= quantity\n",
    "                print(f\"Removed {quantity} x {product.name} from the cart.\")\n",
    "        else:\n",
    "            print(f\"{product.name} is not in the cart.\")\n",
    "\n",
    "    def calculate_total(self):\n",
    "        return sum(item[\"product\"].price * item[\"quantity\"] for item in self.items.values())\n",
    "\n",
    "    def display_cart(self):\n",
    "        print(\"\\n--- Shopping Cart ---\")\n",
    "        if not self.items:\n",
    "            print(\"Cart is empty.\")\n",
    "        else:\n",
    "            for item in self.items.values():\n",
    "                product = item[\"product\"]\n",
    "                quantity = item[\"quantity\"]\n",
    "                total_price = product.price * quantity\n",
    "                print(f\"{product.name} - ${product.price:.2f} x {quantity} = ${total_price:.2f}\")\n",
    "            print(f\"Total: ${self.calculate_total():.2f}\")\n",
    "        print(\"----------------------\\n\")\n"
   ]
  },
  {
   "cell_type": "code",
   "execution_count": 3,
   "id": "6007da63-b4f6-4376-bc96-ab2fe4d7080c",
   "metadata": {},
   "outputs": [
    {
     "name": "stdout",
     "output_type": "stream",
     "text": [
      "Added 3 x Apple to the cart.\n",
      "Added 1 x Banana to the cart.\n",
      "Added 2 x Milk to the cart.\n",
      "\n",
      "--- Shopping Cart ---\n",
      "Apple - $0.99 x 3 = $2.97\n",
      "Banana - $0.59 x 1 = $0.59\n",
      "Milk - $3.49 x 2 = $6.98\n",
      "Total: $10.54\n",
      "----------------------\n",
      "\n",
      "Removed 1 x Apple from the cart.\n",
      "Removed all of Banana from the cart.\n",
      "\n",
      "--- Shopping Cart ---\n",
      "Apple - $0.99 x 2 = $1.98\n",
      "Milk - $3.49 x 2 = $6.98\n",
      "Total: $8.96\n",
      "----------------------\n",
      "\n",
      "Removed all of Milk from the cart.\n",
      "\n",
      "--- Shopping Cart ---\n",
      "Apple - $0.99 x 2 = $1.98\n",
      "Total: $1.98\n",
      "----------------------\n",
      "\n"
     ]
    }
   ],
   "source": [
    "# Create products\n",
    "apple = Product(\"Apple\", 0.99)\n",
    "banana = Product(\"Banana\", 0.59)\n",
    "milk = Product(\"Milk\", 3.49)\n",
    "\n",
    "# Create cart\n",
    "cart = ShoppingCart()\n",
    "\n",
    "# Add items\n",
    "cart.add_product(apple, 3)\n",
    "cart.add_product(banana)\n",
    "cart.add_product(milk, 2)\n",
    "cart.display_cart()\n",
    "\n",
    "# Remove items\n",
    "cart.remove_product(apple, 1)\n",
    "cart.remove_product(banana)\n",
    "cart.display_cart()\n",
    "\n",
    "# Try to remove a product not in the cart\n",
    "cart.remove_product(milk, 5)  # Removes all milk\n",
    "cart.display_cart()\n"
   ]
  }
 ],
 "metadata": {
  "kernelspec": {
   "display_name": "Python 3 (ipykernel)",
   "language": "python",
   "name": "python3"
  },
  "language_info": {
   "codemirror_mode": {
    "name": "ipython",
    "version": 3
   },
   "file_extension": ".py",
   "mimetype": "text/x-python",
   "name": "python",
   "nbconvert_exporter": "python",
   "pygments_lexer": "ipython3",
   "version": "3.12.9"
  }
 },
 "nbformat": 4,
 "nbformat_minor": 5
}
