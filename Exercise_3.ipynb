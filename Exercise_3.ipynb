{
 "cells": [
  {
   "cell_type": "code",
   "execution_count": 20,
   "id": "465252bf-f211-4060-81d2-d3e9e62f1695",
   "metadata": {},
   "outputs": [],
   "source": [
    "from rich import print\n",
    "\n"
   ]
  },
  {
   "cell_type": "code",
   "execution_count": 22,
   "id": "85c22542-1287-4e21-acac-83c1848f0e6e",
   "metadata": {},
   "outputs": [],
   "source": [
    "class Animal(ABC):\n",
    "    def __init__(self, name: str, age: int):\n",
    "        self._name = name\n",
    "        self._age = age\n",
    "\n",
    "    @abstractmethod\n",
    "    def make_sound(self):\n",
    "        pass\n",
    "\n",
    "    def feed(self):\n",
    "        print(f\"{self._name} is being fed!\")\n",
    "\n",
    "    @property\n",
    "    def species(self):\n",
    "        return self.__class__.__name__\n",
    "\n",
    "    @property\n",
    "    def name(self):\n",
    "        return self._name\n"
   ]
  },
  {
   "cell_type": "code",
   "execution_count": 24,
   "id": "15a3d8ed-15f2-4c00-8169-f7735d5ad423",
   "metadata": {},
   "outputs": [],
   "source": [
    "class Cow(Animal):\n",
    "    def make_sound(self):\n",
    "        print(f\"{self._name} says Moo!\")\n",
    "\n",
    "    def milk(self):\n",
    "        return \"Milk\"\n",
    "\n",
    "class Chicken(Animal):\n",
    "    def make_sound(self):\n",
    "        print(f\"{self._name} says Cluck!\")\n",
    "\n",
    "    def lay_egg(self):\n",
    "        return \"Egg\"\n",
    "\n",
    "class Sheep(Animal):\n",
    "    def make_sound(self):\n",
    "        print(f\"{self._name} says Baa!\")\n",
    "\n",
    "    def shear(self):\n",
    "        return \"Wool\"\n"
   ]
  },
  {
   "cell_type": "code",
   "execution_count": 26,
   "id": "a39c56b2-998d-457d-8a37-275cbb41552d",
   "metadata": {},
   "outputs": [],
   "source": [
    "class FarmStructure:\n",
    "    def __init__(self, name: str, structure_type: str):\n",
    "        self.name = name\n",
    "        self.structure_type = structure_type\n",
    "\n",
    "    def describe(self):\n",
    "        print(f\"{self.name} ({self.structure_type})\")\n"
   ]
  },
  {
   "cell_type": "code",
   "execution_count": 28,
   "id": "18275642-ba59-4d8d-a42c-0adbaf241951",
   "metadata": {},
   "outputs": [],
   "source": [
    "class Farm:\n",
    "    def __init__(self, name: str):\n",
    "        self._name = name\n",
    "        self._animals = []\n",
    "        self._structures = []\n",
    "\n",
    "    def add_animal(self, animal: Animal):\n",
    "        self._animals.append(animal)\n",
    "\n",
    "    def remove_animal(self, animal: Animal):\n",
    "        self._animals.remove(animal)\n",
    "\n",
    "    def add_structure(self, structure: FarmStructure):\n",
    "        self._structures.append(structure)\n",
    "\n",
    "    def remove_structure(self, structure: FarmStructure):\n",
    "        self._structures.remove(structure)\n",
    "\n",
    "    def show_population(self):\n",
    "        print(f\"Welcome to {self._name}!\")\n",
    "        print(\"Farm Population:\")\n",
    "        population = defaultdict(int)\n",
    "        for animal in self._animals:\n",
    "            population[animal.species] += 1\n",
    "        for species, count in population.items():\n",
    "            print(f\"- {species}: {count}\")\n",
    "\n",
    "    def list_structures(self):\n",
    "        print(\"Structures:\")\n",
    "        for structure in self._structures:\n",
    "            structure.describe()\n",
    "\n",
    "    def daily_routine(self):\n",
    "        print(\"----- Morning Routine ------\")\n",
    "        products = set()\n",
    "        for animal in self._animals:\n",
    "            animal.feed()\n",
    "            animal.make_sound()\n",
    "            if isinstance(animal, Cow):\n",
    "                products.add(animal.milk())\n",
    "            elif isinstance(animal, Chicken):\n",
    "                products.add(animal.lay_egg())\n",
    "            elif isinstance(animal, Sheep):\n",
    "                products.add(animal.shear())\n",
    "        print(f\"Collected products: {', '.join(products)}\")\n"
   ]
  },
  {
   "cell_type": "code",
   "execution_count": 30,
   "id": "d8f7b419-ec67-44fd-b853-6b297785264b",
   "metadata": {},
   "outputs": [],
   "source": [
    "farm = Farm(\"The Belval Farm\")\n",
    "\n",
    "# Add animals\n",
    "farm.add_animal(Cow(\"Bessie\", 4))\n",
    "farm.add_animal(Cow(\"Daisy\", 5))\n",
    "farm.add_animal(Chicken(\"Clucker\", 1))\n",
    "farm.add_animal(Chicken(\"Feathers\", 2))\n",
    "farm.add_animal(Chicken(\"Pecky\", 2))\n",
    "farm.add_animal(Sheep(\"Woolly\", 3))\n",
    "farm.add_animal(Sheep(\"Fluffy\", 2))\n",
    "farm.add_animal(Sheep(\"Lamby\", 1))\n",
    "farm.add_animal(Sheep(\"Shaun\", 4))\n",
    "farm.add_animal(Sheep(\"Snowy\", 3))\n",
    "\n",
    "# Add structures\n",
    "farm.add_structure(FarmStructure(\"Red Barn\", \"Barn\"))\n",
    "farm.add_structure(FarmStructure(\"Hen Palace\", \"Coop\"))\n"
   ]
  },
  {
   "cell_type": "code",
   "execution_count": 32,
   "id": "0728136a-7f14-46a9-85f1-36de45c1a7f7",
   "metadata": {},
   "outputs": [
    {
     "data": {
      "text/html": [
       "<pre style=\"white-space:pre;overflow-x:auto;line-height:normal;font-family:Menlo,'DejaVu Sans Mono',consolas,'Courier New',monospace\">Welcome to The Belval Farm!\n",
       "</pre>\n"
      ],
      "text/plain": [
       "Welcome to The Belval Farm!\n"
      ]
     },
     "metadata": {},
     "output_type": "display_data"
    },
    {
     "data": {
      "text/html": [
       "<pre style=\"white-space:pre;overflow-x:auto;line-height:normal;font-family:Menlo,'DejaVu Sans Mono',consolas,'Courier New',monospace\">Farm Population:\n",
       "</pre>\n"
      ],
      "text/plain": [
       "Farm Population:\n"
      ]
     },
     "metadata": {},
     "output_type": "display_data"
    },
    {
     "data": {
      "text/html": [
       "<pre style=\"white-space:pre;overflow-x:auto;line-height:normal;font-family:Menlo,'DejaVu Sans Mono',consolas,'Courier New',monospace\">- Cow: <span style=\"color: #008080; text-decoration-color: #008080; font-weight: bold\">2</span>\n",
       "</pre>\n"
      ],
      "text/plain": [
       "- Cow: \u001b[1;36m2\u001b[0m\n"
      ]
     },
     "metadata": {},
     "output_type": "display_data"
    },
    {
     "data": {
      "text/html": [
       "<pre style=\"white-space:pre;overflow-x:auto;line-height:normal;font-family:Menlo,'DejaVu Sans Mono',consolas,'Courier New',monospace\">- Chicken: <span style=\"color: #008080; text-decoration-color: #008080; font-weight: bold\">3</span>\n",
       "</pre>\n"
      ],
      "text/plain": [
       "- Chicken: \u001b[1;36m3\u001b[0m\n"
      ]
     },
     "metadata": {},
     "output_type": "display_data"
    },
    {
     "data": {
      "text/html": [
       "<pre style=\"white-space:pre;overflow-x:auto;line-height:normal;font-family:Menlo,'DejaVu Sans Mono',consolas,'Courier New',monospace\">- Sheep: <span style=\"color: #008080; text-decoration-color: #008080; font-weight: bold\">5</span>\n",
       "</pre>\n"
      ],
      "text/plain": [
       "- Sheep: \u001b[1;36m5\u001b[0m\n"
      ]
     },
     "metadata": {},
     "output_type": "display_data"
    }
   ],
   "source": [
    "farm.show_population()\n"
   ]
  },
  {
   "cell_type": "code",
   "execution_count": 34,
   "id": "2a67e783-f075-4694-9258-1c174f9111e8",
   "metadata": {},
   "outputs": [
    {
     "data": {
      "text/html": [
       "<pre style=\"white-space:pre;overflow-x:auto;line-height:normal;font-family:Menlo,'DejaVu Sans Mono',consolas,'Courier New',monospace\">Structures:\n",
       "</pre>\n"
      ],
      "text/plain": [
       "Structures:\n"
      ]
     },
     "metadata": {},
     "output_type": "display_data"
    },
    {
     "data": {
      "text/html": [
       "<pre style=\"white-space:pre;overflow-x:auto;line-height:normal;font-family:Menlo,'DejaVu Sans Mono',consolas,'Courier New',monospace\">Red Barn <span style=\"font-weight: bold\">(</span>Barn<span style=\"font-weight: bold\">)</span>\n",
       "</pre>\n"
      ],
      "text/plain": [
       "Red Barn \u001b[1m(\u001b[0mBarn\u001b[1m)\u001b[0m\n"
      ]
     },
     "metadata": {},
     "output_type": "display_data"
    },
    {
     "data": {
      "text/html": [
       "<pre style=\"white-space:pre;overflow-x:auto;line-height:normal;font-family:Menlo,'DejaVu Sans Mono',consolas,'Courier New',monospace\">Hen Palace <span style=\"font-weight: bold\">(</span>Coop<span style=\"font-weight: bold\">)</span>\n",
       "</pre>\n"
      ],
      "text/plain": [
       "Hen Palace \u001b[1m(\u001b[0mCoop\u001b[1m)\u001b[0m\n"
      ]
     },
     "metadata": {},
     "output_type": "display_data"
    }
   ],
   "source": [
    "farm.list_structures()\n"
   ]
  },
  {
   "cell_type": "code",
   "execution_count": 36,
   "id": "de0c9757-f0fe-4eb7-8240-dbd9c729ca5b",
   "metadata": {},
   "outputs": [
    {
     "data": {
      "text/html": [
       "<pre style=\"white-space:pre;overflow-x:auto;line-height:normal;font-family:Menlo,'DejaVu Sans Mono',consolas,'Courier New',monospace\">----- Morning Routine ------\n",
       "</pre>\n"
      ],
      "text/plain": [
       "----- Morning Routine ------\n"
      ]
     },
     "metadata": {},
     "output_type": "display_data"
    },
    {
     "data": {
      "text/html": [
       "<pre style=\"white-space:pre;overflow-x:auto;line-height:normal;font-family:Menlo,'DejaVu Sans Mono',consolas,'Courier New',monospace\">Bessie is being fed!\n",
       "</pre>\n"
      ],
      "text/plain": [
       "Bessie is being fed!\n"
      ]
     },
     "metadata": {},
     "output_type": "display_data"
    },
    {
     "data": {
      "text/html": [
       "<pre style=\"white-space:pre;overflow-x:auto;line-height:normal;font-family:Menlo,'DejaVu Sans Mono',consolas,'Courier New',monospace\">Bessie says Moo!\n",
       "</pre>\n"
      ],
      "text/plain": [
       "Bessie says Moo!\n"
      ]
     },
     "metadata": {},
     "output_type": "display_data"
    },
    {
     "data": {
      "text/html": [
       "<pre style=\"white-space:pre;overflow-x:auto;line-height:normal;font-family:Menlo,'DejaVu Sans Mono',consolas,'Courier New',monospace\">Daisy is being fed!\n",
       "</pre>\n"
      ],
      "text/plain": [
       "Daisy is being fed!\n"
      ]
     },
     "metadata": {},
     "output_type": "display_data"
    },
    {
     "data": {
      "text/html": [
       "<pre style=\"white-space:pre;overflow-x:auto;line-height:normal;font-family:Menlo,'DejaVu Sans Mono',consolas,'Courier New',monospace\">Daisy says Moo!\n",
       "</pre>\n"
      ],
      "text/plain": [
       "Daisy says Moo!\n"
      ]
     },
     "metadata": {},
     "output_type": "display_data"
    },
    {
     "data": {
      "text/html": [
       "<pre style=\"white-space:pre;overflow-x:auto;line-height:normal;font-family:Menlo,'DejaVu Sans Mono',consolas,'Courier New',monospace\">Clucker is being fed!\n",
       "</pre>\n"
      ],
      "text/plain": [
       "Clucker is being fed!\n"
      ]
     },
     "metadata": {},
     "output_type": "display_data"
    },
    {
     "data": {
      "text/html": [
       "<pre style=\"white-space:pre;overflow-x:auto;line-height:normal;font-family:Menlo,'DejaVu Sans Mono',consolas,'Courier New',monospace\">Clucker says Cluck!\n",
       "</pre>\n"
      ],
      "text/plain": [
       "Clucker says Cluck!\n"
      ]
     },
     "metadata": {},
     "output_type": "display_data"
    },
    {
     "data": {
      "text/html": [
       "<pre style=\"white-space:pre;overflow-x:auto;line-height:normal;font-family:Menlo,'DejaVu Sans Mono',consolas,'Courier New',monospace\">Feathers is being fed!\n",
       "</pre>\n"
      ],
      "text/plain": [
       "Feathers is being fed!\n"
      ]
     },
     "metadata": {},
     "output_type": "display_data"
    },
    {
     "data": {
      "text/html": [
       "<pre style=\"white-space:pre;overflow-x:auto;line-height:normal;font-family:Menlo,'DejaVu Sans Mono',consolas,'Courier New',monospace\">Feathers says Cluck!\n",
       "</pre>\n"
      ],
      "text/plain": [
       "Feathers says Cluck!\n"
      ]
     },
     "metadata": {},
     "output_type": "display_data"
    },
    {
     "data": {
      "text/html": [
       "<pre style=\"white-space:pre;overflow-x:auto;line-height:normal;font-family:Menlo,'DejaVu Sans Mono',consolas,'Courier New',monospace\">Pecky is being fed!\n",
       "</pre>\n"
      ],
      "text/plain": [
       "Pecky is being fed!\n"
      ]
     },
     "metadata": {},
     "output_type": "display_data"
    },
    {
     "data": {
      "text/html": [
       "<pre style=\"white-space:pre;overflow-x:auto;line-height:normal;font-family:Menlo,'DejaVu Sans Mono',consolas,'Courier New',monospace\">Pecky says Cluck!\n",
       "</pre>\n"
      ],
      "text/plain": [
       "Pecky says Cluck!\n"
      ]
     },
     "metadata": {},
     "output_type": "display_data"
    },
    {
     "data": {
      "text/html": [
       "<pre style=\"white-space:pre;overflow-x:auto;line-height:normal;font-family:Menlo,'DejaVu Sans Mono',consolas,'Courier New',monospace\">Woolly is being fed!\n",
       "</pre>\n"
      ],
      "text/plain": [
       "Woolly is being fed!\n"
      ]
     },
     "metadata": {},
     "output_type": "display_data"
    },
    {
     "data": {
      "text/html": [
       "<pre style=\"white-space:pre;overflow-x:auto;line-height:normal;font-family:Menlo,'DejaVu Sans Mono',consolas,'Courier New',monospace\">Woolly says Baa!\n",
       "</pre>\n"
      ],
      "text/plain": [
       "Woolly says Baa!\n"
      ]
     },
     "metadata": {},
     "output_type": "display_data"
    },
    {
     "data": {
      "text/html": [
       "<pre style=\"white-space:pre;overflow-x:auto;line-height:normal;font-family:Menlo,'DejaVu Sans Mono',consolas,'Courier New',monospace\">Fluffy is being fed!\n",
       "</pre>\n"
      ],
      "text/plain": [
       "Fluffy is being fed!\n"
      ]
     },
     "metadata": {},
     "output_type": "display_data"
    },
    {
     "data": {
      "text/html": [
       "<pre style=\"white-space:pre;overflow-x:auto;line-height:normal;font-family:Menlo,'DejaVu Sans Mono',consolas,'Courier New',monospace\">Fluffy says Baa!\n",
       "</pre>\n"
      ],
      "text/plain": [
       "Fluffy says Baa!\n"
      ]
     },
     "metadata": {},
     "output_type": "display_data"
    },
    {
     "data": {
      "text/html": [
       "<pre style=\"white-space:pre;overflow-x:auto;line-height:normal;font-family:Menlo,'DejaVu Sans Mono',consolas,'Courier New',monospace\">Lamby is being fed!\n",
       "</pre>\n"
      ],
      "text/plain": [
       "Lamby is being fed!\n"
      ]
     },
     "metadata": {},
     "output_type": "display_data"
    },
    {
     "data": {
      "text/html": [
       "<pre style=\"white-space:pre;overflow-x:auto;line-height:normal;font-family:Menlo,'DejaVu Sans Mono',consolas,'Courier New',monospace\">Lamby says Baa!\n",
       "</pre>\n"
      ],
      "text/plain": [
       "Lamby says Baa!\n"
      ]
     },
     "metadata": {},
     "output_type": "display_data"
    },
    {
     "data": {
      "text/html": [
       "<pre style=\"white-space:pre;overflow-x:auto;line-height:normal;font-family:Menlo,'DejaVu Sans Mono',consolas,'Courier New',monospace\">Shaun is being fed!\n",
       "</pre>\n"
      ],
      "text/plain": [
       "Shaun is being fed!\n"
      ]
     },
     "metadata": {},
     "output_type": "display_data"
    },
    {
     "data": {
      "text/html": [
       "<pre style=\"white-space:pre;overflow-x:auto;line-height:normal;font-family:Menlo,'DejaVu Sans Mono',consolas,'Courier New',monospace\">Shaun says Baa!\n",
       "</pre>\n"
      ],
      "text/plain": [
       "Shaun says Baa!\n"
      ]
     },
     "metadata": {},
     "output_type": "display_data"
    },
    {
     "data": {
      "text/html": [
       "<pre style=\"white-space:pre;overflow-x:auto;line-height:normal;font-family:Menlo,'DejaVu Sans Mono',consolas,'Courier New',monospace\">Snowy is being fed!\n",
       "</pre>\n"
      ],
      "text/plain": [
       "Snowy is being fed!\n"
      ]
     },
     "metadata": {},
     "output_type": "display_data"
    },
    {
     "data": {
      "text/html": [
       "<pre style=\"white-space:pre;overflow-x:auto;line-height:normal;font-family:Menlo,'DejaVu Sans Mono',consolas,'Courier New',monospace\">Snowy says Baa!\n",
       "</pre>\n"
      ],
      "text/plain": [
       "Snowy says Baa!\n"
      ]
     },
     "metadata": {},
     "output_type": "display_data"
    },
    {
     "data": {
      "text/html": [
       "<pre style=\"white-space:pre;overflow-x:auto;line-height:normal;font-family:Menlo,'DejaVu Sans Mono',consolas,'Courier New',monospace\">Collected products: Milk, Wool, Egg\n",
       "</pre>\n"
      ],
      "text/plain": [
       "Collected products: Milk, Wool, Egg\n"
      ]
     },
     "metadata": {},
     "output_type": "display_data"
    }
   ],
   "source": [
    "farm.daily_routine()\n"
   ]
  }
 ],
 "metadata": {
  "kernelspec": {
   "display_name": "Python [conda env:base] *",
   "language": "python",
   "name": "conda-base-py"
  },
  "language_info": {
   "codemirror_mode": {
    "name": "ipython",
    "version": 3
   },
   "file_extension": ".py",
   "mimetype": "text/x-python",
   "name": "python",
   "nbconvert_exporter": "python",
   "pygments_lexer": "ipython3",
   "version": "3.12.7"
  }
 },
 "nbformat": 4,
 "nbformat_minor": 5
}
