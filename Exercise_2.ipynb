{
 "cells": [
  {
   "cell_type": "code",
   "execution_count": 2,
   "id": "a3daf88c-38f8-4495-9d29-253f5ae448ff",
   "metadata": {},
   "outputs": [],
   "source": [
    "# Homework\n",
    "\n",
    "fruits = ['mango', 'kiwi', 'strawberry', 'guava', 'pineapple', 'mandarin orange']\n",
    "numbers = [2, 3, 4, 5, 6, 7, 8, 9, 10, 11, 13, 17, 19, 23, 256, -8, -4, -2, 5, -9]"
   ]
  },
  {
   "cell_type": "code",
   "execution_count": 4,
   "id": "4016b6e8-17c0-41af-8595-c3961a0c1271",
   "metadata": {},
   "outputs": [],
   "source": [
    "from rich import print"
   ]
  },
  {
   "cell_type": "code",
   "execution_count": 8,
   "id": "020081ed-1a27-47f6-8b2e-ef099e758295",
   "metadata": {},
   "outputs": [
    {
     "data": {
      "text/html": [
       "<pre style=\"white-space:pre;overflow-x:auto;line-height:normal;font-family:Menlo,'DejaVu Sans Mono',consolas,'Courier New',monospace\"><span style=\"font-weight: bold\">[</span><span style=\"color: #008000; text-decoration-color: #008000\">'MANGO'</span>, <span style=\"color: #008000; text-decoration-color: #008000\">'KIWI'</span>, <span style=\"color: #008000; text-decoration-color: #008000\">'STRAWBERRY'</span>, <span style=\"color: #008000; text-decoration-color: #008000\">'GUAVA'</span>, <span style=\"color: #008000; text-decoration-color: #008000\">'PINEAPPLE'</span>, <span style=\"color: #008000; text-decoration-color: #008000\">'MANDARIN ORANGE'</span><span style=\"font-weight: bold\">]</span>\n",
       "</pre>\n"
      ],
      "text/plain": [
       "\u001b[1m[\u001b[0m\u001b[32m'MANGO'\u001b[0m, \u001b[32m'KIWI'\u001b[0m, \u001b[32m'STRAWBERRY'\u001b[0m, \u001b[32m'GUAVA'\u001b[0m, \u001b[32m'PINEAPPLE'\u001b[0m, \u001b[32m'MANDARIN ORANGE'\u001b[0m\u001b[1m]\u001b[0m\n"
      ]
     },
     "metadata": {},
     "output_type": "display_data"
    },
    {
     "data": {
      "text/html": [
       "<pre style=\"white-space:pre;overflow-x:auto;line-height:normal;font-family:Menlo,'DejaVu Sans Mono',consolas,'Courier New',monospace\"><span style=\"font-weight: bold\">[</span><span style=\"color: #008000; text-decoration-color: #008000\">'Mango'</span>, <span style=\"color: #008000; text-decoration-color: #008000\">'Kiwi'</span>, <span style=\"color: #008000; text-decoration-color: #008000\">'Strawberry'</span>, <span style=\"color: #008000; text-decoration-color: #008000\">'Guava'</span>, <span style=\"color: #008000; text-decoration-color: #008000\">'Pineapple'</span>, <span style=\"color: #008000; text-decoration-color: #008000\">'Mandarin orange'</span><span style=\"font-weight: bold\">]</span>\n",
       "</pre>\n"
      ],
      "text/plain": [
       "\u001b[1m[\u001b[0m\u001b[32m'Mango'\u001b[0m, \u001b[32m'Kiwi'\u001b[0m, \u001b[32m'Strawberry'\u001b[0m, \u001b[32m'Guava'\u001b[0m, \u001b[32m'Pineapple'\u001b[0m, \u001b[32m'Mandarin orange'\u001b[0m\u001b[1m]\u001b[0m\n"
      ]
     },
     "metadata": {},
     "output_type": "display_data"
    },
    {
     "data": {
      "text/html": [
       "<pre style=\"white-space:pre;overflow-x:auto;line-height:normal;font-family:Menlo,'DejaVu Sans Mono',consolas,'Courier New',monospace\"><span style=\"font-weight: bold\">[</span><span style=\"color: #008000; text-decoration-color: #008000\">'guava'</span>, <span style=\"color: #008000; text-decoration-color: #008000\">'pineapple'</span>, <span style=\"color: #008000; text-decoration-color: #008000\">'mandarin orange'</span><span style=\"font-weight: bold\">]</span>\n",
       "</pre>\n"
      ],
      "text/plain": [
       "\u001b[1m[\u001b[0m\u001b[32m'guava'\u001b[0m, \u001b[32m'pineapple'\u001b[0m, \u001b[32m'mandarin orange'\u001b[0m\u001b[1m]\u001b[0m\n"
      ]
     },
     "metadata": {},
     "output_type": "display_data"
    },
    {
     "data": {
      "text/html": [
       "<pre style=\"white-space:pre;overflow-x:auto;line-height:normal;font-family:Menlo,'DejaVu Sans Mono',consolas,'Courier New',monospace\"><span style=\"font-weight: bold\">[</span><span style=\"color: #008000; text-decoration-color: #008000\">'mango'</span>, <span style=\"color: #008000; text-decoration-color: #008000\">'kiwi'</span>, <span style=\"color: #008000; text-decoration-color: #008000\">'strawberry'</span><span style=\"font-weight: bold\">]</span>\n",
       "</pre>\n"
      ],
      "text/plain": [
       "\u001b[1m[\u001b[0m\u001b[32m'mango'\u001b[0m, \u001b[32m'kiwi'\u001b[0m, \u001b[32m'strawberry'\u001b[0m\u001b[1m]\u001b[0m\n"
      ]
     },
     "metadata": {},
     "output_type": "display_data"
    },
    {
     "data": {
      "text/html": [
       "<pre style=\"white-space:pre;overflow-x:auto;line-height:normal;font-family:Menlo,'DejaVu Sans Mono',consolas,'Courier New',monospace\"><span style=\"font-weight: bold\">[</span><span style=\"color: #008000; text-decoration-color: #008000\">'strawberry'</span>, <span style=\"color: #008000; text-decoration-color: #008000\">'pineapple'</span>, <span style=\"color: #008000; text-decoration-color: #008000\">'mandarin orange'</span><span style=\"font-weight: bold\">]</span>\n",
       "</pre>\n"
      ],
      "text/plain": [
       "\u001b[1m[\u001b[0m\u001b[32m'strawberry'\u001b[0m, \u001b[32m'pineapple'\u001b[0m, \u001b[32m'mandarin orange'\u001b[0m\u001b[1m]\u001b[0m\n"
      ]
     },
     "metadata": {},
     "output_type": "display_data"
    },
    {
     "data": {
      "text/html": [
       "<pre style=\"white-space:pre;overflow-x:auto;line-height:normal;font-family:Menlo,'DejaVu Sans Mono',consolas,'Courier New',monospace\"><span style=\"font-weight: bold\">[</span><span style=\"color: #008000; text-decoration-color: #008000\">'mango'</span>, <span style=\"color: #008000; text-decoration-color: #008000\">'guava'</span><span style=\"font-weight: bold\">]</span>\n",
       "</pre>\n"
      ],
      "text/plain": [
       "\u001b[1m[\u001b[0m\u001b[32m'mango'\u001b[0m, \u001b[32m'guava'\u001b[0m\u001b[1m]\u001b[0m\n"
      ]
     },
     "metadata": {},
     "output_type": "display_data"
    },
    {
     "data": {
      "text/html": [
       "<pre style=\"white-space:pre;overflow-x:auto;line-height:normal;font-family:Menlo,'DejaVu Sans Mono',consolas,'Courier New',monospace\"><span style=\"font-weight: bold\">[</span><span style=\"color: #008000; text-decoration-color: #008000\">'kiwi'</span><span style=\"font-weight: bold\">]</span>\n",
       "</pre>\n"
      ],
      "text/plain": [
       "\u001b[1m[\u001b[0m\u001b[32m'kiwi'\u001b[0m\u001b[1m]\u001b[0m\n"
      ]
     },
     "metadata": {},
     "output_type": "display_data"
    },
    {
     "data": {
      "text/html": [
       "<pre style=\"white-space:pre;overflow-x:auto;line-height:normal;font-family:Menlo,'DejaVu Sans Mono',consolas,'Courier New',monospace\"><span style=\"font-weight: bold\">[</span><span style=\"color: #008080; text-decoration-color: #008080; font-weight: bold\">5</span>, <span style=\"color: #008080; text-decoration-color: #008080; font-weight: bold\">4</span>, <span style=\"color: #008080; text-decoration-color: #008080; font-weight: bold\">10</span>, <span style=\"color: #008080; text-decoration-color: #008080; font-weight: bold\">5</span>, <span style=\"color: #008080; text-decoration-color: #008080; font-weight: bold\">9</span>, <span style=\"color: #008080; text-decoration-color: #008080; font-weight: bold\">15</span><span style=\"font-weight: bold\">]</span>\n",
       "</pre>\n"
      ],
      "text/plain": [
       "\u001b[1m[\u001b[0m\u001b[1;36m5\u001b[0m, \u001b[1;36m4\u001b[0m, \u001b[1;36m10\u001b[0m, \u001b[1;36m5\u001b[0m, \u001b[1;36m9\u001b[0m, \u001b[1;36m15\u001b[0m\u001b[1m]\u001b[0m\n"
      ]
     },
     "metadata": {},
     "output_type": "display_data"
    },
    {
     "data": {
      "text/html": [
       "<pre style=\"white-space:pre;overflow-x:auto;line-height:normal;font-family:Menlo,'DejaVu Sans Mono',consolas,'Courier New',monospace\"><span style=\"font-weight: bold\">[</span><span style=\"color: #008000; text-decoration-color: #008000\">'mango'</span>, <span style=\"color: #008000; text-decoration-color: #008000\">'strawberry'</span>, <span style=\"color: #008000; text-decoration-color: #008000\">'guava'</span>, <span style=\"color: #008000; text-decoration-color: #008000\">'pineapple'</span>, <span style=\"color: #008000; text-decoration-color: #008000\">'mandarin orange'</span><span style=\"font-weight: bold\">]</span>\n",
       "</pre>\n"
      ],
      "text/plain": [
       "\u001b[1m[\u001b[0m\u001b[32m'mango'\u001b[0m, \u001b[32m'strawberry'\u001b[0m, \u001b[32m'guava'\u001b[0m, \u001b[32m'pineapple'\u001b[0m, \u001b[32m'mandarin orange'\u001b[0m\u001b[1m]\u001b[0m\n"
      ]
     },
     "metadata": {},
     "output_type": "display_data"
    },
    {
     "data": {
      "text/html": [
       "<pre style=\"white-space:pre;overflow-x:auto;line-height:normal;font-family:Menlo,'DejaVu Sans Mono',consolas,'Courier New',monospace\"><span style=\"font-weight: bold\">[</span><span style=\"color: #008080; text-decoration-color: #008080; font-weight: bold\">2</span>, <span style=\"color: #008080; text-decoration-color: #008080; font-weight: bold\">4</span>, <span style=\"color: #008080; text-decoration-color: #008080; font-weight: bold\">6</span>, <span style=\"color: #008080; text-decoration-color: #008080; font-weight: bold\">8</span>, <span style=\"color: #008080; text-decoration-color: #008080; font-weight: bold\">10</span>, <span style=\"color: #008080; text-decoration-color: #008080; font-weight: bold\">256</span>, <span style=\"color: #008080; text-decoration-color: #008080; font-weight: bold\">-8</span>, <span style=\"color: #008080; text-decoration-color: #008080; font-weight: bold\">-4</span>, <span style=\"color: #008080; text-decoration-color: #008080; font-weight: bold\">-2</span><span style=\"font-weight: bold\">]</span>\n",
       "</pre>\n"
      ],
      "text/plain": [
       "\u001b[1m[\u001b[0m\u001b[1;36m2\u001b[0m, \u001b[1;36m4\u001b[0m, \u001b[1;36m6\u001b[0m, \u001b[1;36m8\u001b[0m, \u001b[1;36m10\u001b[0m, \u001b[1;36m256\u001b[0m, \u001b[1;36m-8\u001b[0m, \u001b[1;36m-4\u001b[0m, \u001b[1;36m-2\u001b[0m\u001b[1m]\u001b[0m\n"
      ]
     },
     "metadata": {},
     "output_type": "display_data"
    },
    {
     "data": {
      "text/html": [
       "<pre style=\"white-space:pre;overflow-x:auto;line-height:normal;font-family:Menlo,'DejaVu Sans Mono',consolas,'Courier New',monospace\"><span style=\"font-weight: bold\">[</span><span style=\"color: #008080; text-decoration-color: #008080; font-weight: bold\">3</span>, <span style=\"color: #008080; text-decoration-color: #008080; font-weight: bold\">5</span>, <span style=\"color: #008080; text-decoration-color: #008080; font-weight: bold\">7</span>, <span style=\"color: #008080; text-decoration-color: #008080; font-weight: bold\">9</span>, <span style=\"color: #008080; text-decoration-color: #008080; font-weight: bold\">11</span>, <span style=\"color: #008080; text-decoration-color: #008080; font-weight: bold\">13</span>, <span style=\"color: #008080; text-decoration-color: #008080; font-weight: bold\">17</span>, <span style=\"color: #008080; text-decoration-color: #008080; font-weight: bold\">19</span>, <span style=\"color: #008080; text-decoration-color: #008080; font-weight: bold\">23</span>, <span style=\"color: #008080; text-decoration-color: #008080; font-weight: bold\">5</span>, <span style=\"color: #008080; text-decoration-color: #008080; font-weight: bold\">-9</span><span style=\"font-weight: bold\">]</span>\n",
       "</pre>\n"
      ],
      "text/plain": [
       "\u001b[1m[\u001b[0m\u001b[1;36m3\u001b[0m, \u001b[1;36m5\u001b[0m, \u001b[1;36m7\u001b[0m, \u001b[1;36m9\u001b[0m, \u001b[1;36m11\u001b[0m, \u001b[1;36m13\u001b[0m, \u001b[1;36m17\u001b[0m, \u001b[1;36m19\u001b[0m, \u001b[1;36m23\u001b[0m, \u001b[1;36m5\u001b[0m, \u001b[1;36m-9\u001b[0m\u001b[1m]\u001b[0m\n"
      ]
     },
     "metadata": {},
     "output_type": "display_data"
    },
    {
     "data": {
      "text/html": [
       "<pre style=\"white-space:pre;overflow-x:auto;line-height:normal;font-family:Menlo,'DejaVu Sans Mono',consolas,'Courier New',monospace\"><span style=\"font-weight: bold\">[</span><span style=\"color: #008080; text-decoration-color: #008080; font-weight: bold\">2</span>, <span style=\"color: #008080; text-decoration-color: #008080; font-weight: bold\">3</span>, <span style=\"color: #008080; text-decoration-color: #008080; font-weight: bold\">4</span>, <span style=\"color: #008080; text-decoration-color: #008080; font-weight: bold\">5</span>, <span style=\"color: #008080; text-decoration-color: #008080; font-weight: bold\">6</span>, <span style=\"color: #008080; text-decoration-color: #008080; font-weight: bold\">7</span>, <span style=\"color: #008080; text-decoration-color: #008080; font-weight: bold\">8</span>, <span style=\"color: #008080; text-decoration-color: #008080; font-weight: bold\">9</span>, <span style=\"color: #008080; text-decoration-color: #008080; font-weight: bold\">10</span>, <span style=\"color: #008080; text-decoration-color: #008080; font-weight: bold\">11</span>, <span style=\"color: #008080; text-decoration-color: #008080; font-weight: bold\">13</span>, <span style=\"color: #008080; text-decoration-color: #008080; font-weight: bold\">17</span>, <span style=\"color: #008080; text-decoration-color: #008080; font-weight: bold\">19</span>, <span style=\"color: #008080; text-decoration-color: #008080; font-weight: bold\">23</span>, <span style=\"color: #008080; text-decoration-color: #008080; font-weight: bold\">256</span>, <span style=\"color: #008080; text-decoration-color: #008080; font-weight: bold\">5</span><span style=\"font-weight: bold\">]</span>\n",
       "</pre>\n"
      ],
      "text/plain": [
       "\u001b[1m[\u001b[0m\u001b[1;36m2\u001b[0m, \u001b[1;36m3\u001b[0m, \u001b[1;36m4\u001b[0m, \u001b[1;36m5\u001b[0m, \u001b[1;36m6\u001b[0m, \u001b[1;36m7\u001b[0m, \u001b[1;36m8\u001b[0m, \u001b[1;36m9\u001b[0m, \u001b[1;36m10\u001b[0m, \u001b[1;36m11\u001b[0m, \u001b[1;36m13\u001b[0m, \u001b[1;36m17\u001b[0m, \u001b[1;36m19\u001b[0m, \u001b[1;36m23\u001b[0m, \u001b[1;36m256\u001b[0m, \u001b[1;36m5\u001b[0m\u001b[1m]\u001b[0m\n"
      ]
     },
     "metadata": {},
     "output_type": "display_data"
    },
    {
     "data": {
      "text/html": [
       "<pre style=\"white-space:pre;overflow-x:auto;line-height:normal;font-family:Menlo,'DejaVu Sans Mono',consolas,'Courier New',monospace\"><span style=\"font-weight: bold\">[</span><span style=\"color: #008080; text-decoration-color: #008080; font-weight: bold\">-8</span>, <span style=\"color: #008080; text-decoration-color: #008080; font-weight: bold\">-4</span>, <span style=\"color: #008080; text-decoration-color: #008080; font-weight: bold\">-2</span>, <span style=\"color: #008080; text-decoration-color: #008080; font-weight: bold\">-9</span><span style=\"font-weight: bold\">]</span>\n",
       "</pre>\n"
      ],
      "text/plain": [
       "\u001b[1m[\u001b[0m\u001b[1;36m-8\u001b[0m, \u001b[1;36m-4\u001b[0m, \u001b[1;36m-2\u001b[0m, \u001b[1;36m-9\u001b[0m\u001b[1m]\u001b[0m\n"
      ]
     },
     "metadata": {},
     "output_type": "display_data"
    }
   ],
   "source": [
    "# Ex 1:\n",
    "uppercased_fruits = [fruit.upper() for fruit in fruits]\n",
    "print(uppercased_fruits)\n",
    "\n",
    "# Ex 2:\n",
    "capitalized_fruits = [fruit.capitalize() for fruit in fruits]\n",
    "print(capitalized_fruits)\n",
    "\n",
    "# Ex 3:\n",
    "def count_vowels(word):\n",
    "    return sum(1 for letter in word if letter in 'aeiouAEIOU')\n",
    "fruits_with_more_than_two_vowels = [fruit for fruit in fruits if count_vowels(fruit) > 2]\n",
    "print(fruits_with_more_than_two_vowels)\n",
    "\n",
    "# Ex 4:\n",
    "fruits_with_only_two_vowels = [fruit for fruit in fruits if count_vowels(fruit) == 2]\n",
    "print(fruits_with_only_two_vowels)\n",
    "\n",
    "# Ex 5:\n",
    "fruits_with_more_than_five_chars = [fruit for fruit in fruits if len(fruit) > 5]\n",
    "print(fruits_with_more_than_five_chars)\n",
    "\n",
    "# Ex 6:\n",
    "fruits_with_five_chars = [fruit for fruit in fruits if len(fruit) == 5]\n",
    "print(fruits_with_five_chars)\n",
    "\n",
    "# Ex 7:\n",
    "fruits_with_less_than_five_chars = [fruit for fruit in fruits if len(fruit) < 5]\n",
    "print(fruits_with_less_than_five_chars)\n",
    "\n",
    "# Ex 8:\n",
    "fruit_name_lengths = [len(fruit) for fruit in fruits]\n",
    "print(fruit_name_lengths)\n",
    "\n",
    "# Ex 9:\n",
    "fruits_with_letter_a = [fruit for fruit in fruits if 'a' in fruit]\n",
    "print(fruits_with_letter_a)\n",
    "\n",
    "# Ex 10:\n",
    "even_numbers = [num for num in numbers if num % 2 == 0]\n",
    "print(even_numbers)\n",
    "\n",
    "# Ex 11:\n",
    "odd_numbers = [num for num in numbers if num % 2 != 0]\n",
    "print(odd_numbers)\n",
    "\n",
    "# Ex 12:\n",
    "positive_numbers = [num for num in numbers if num > 0]\n",
    "print(positive_numbers)\n",
    "\n",
    "# Ex 13:\n",
    "negative_numbers = [num for num in numbers if num < 0]\n",
    "print(negative_numbers)"
   ]
  },
  {
   "cell_type": "code",
   "execution_count": null,
   "id": "e88bf1cc-7073-469d-97b9-352aacf53f77",
   "metadata": {},
   "outputs": [],
   "source": []
  }
 ],
 "metadata": {
  "kernelspec": {
   "display_name": "Python [conda env:mspc14-class]",
   "language": "python",
   "name": "conda-env-mspc14-class-py"
  },
  "language_info": {
   "codemirror_mode": {
    "name": "ipython",
    "version": 3
   },
   "file_extension": ".py",
   "mimetype": "text/x-python",
   "name": "python",
   "nbconvert_exporter": "python",
   "pygments_lexer": "ipython3",
   "version": "3.12.9"
  }
 },
 "nbformat": 4,
 "nbformat_minor": 5
}
